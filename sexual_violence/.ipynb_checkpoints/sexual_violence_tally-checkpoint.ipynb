{
 "cells": [
  {
   "cell_type": "code",
   "execution_count": 54,
   "id": "0b18b89b",
   "metadata": {},
   "outputs": [],
   "source": [
    "import pandas as pd\n",
    "from pathlib import Path\n",
    "from tqdm import tqdm"
   ]
  },
  {
   "cell_type": "code",
   "execution_count": 55,
   "id": "bd3e68cc",
   "metadata": {},
   "outputs": [],
   "source": [
    "dataset = []\n",
    "for csv in Path('.').glob('*.tsv'):\n",
    "    term = csv.name.replace('2022_12_11_inceldom_', '').replace('_references.tsv', '')\n",
    "    csv = pd.read_csv(csv, sep='\\t')\n",
    "    csv['term'] = term\n",
    "    dataset.append(csv)\n",
    "dataset = pd.concat(dataset)\n",
    "dataset = dataset.drop('Unnamed: 0', axis=1)"
   ]
  },
  {
   "cell_type": "code",
   "execution_count": 56,
   "id": "80975b20",
   "metadata": {},
   "outputs": [],
   "source": [
    "unique_users = dataset.groupby('term')['author'].nunique()\n",
    "unique_users.name = \"Unique Users Using Term\" \n",
    "unique_threads = dataset.groupby('term')['URL'].nunique()\n",
    "unique_threads.name = \"Unique Threads Using Term\"\n",
    "unique_posts = dataset.groupby('term').size()\n",
    "unique_posts.name = \"Unique Posts Using Term\"\n",
    "\n",
    "usage_summary = pd.concat([unique_users, unique_threads, unique_posts], axis=1).reset_index()\n",
    "tidy_names = {'rape': 'rape(s|ed)',\n",
    "'raping': 'raping',\n",
    "'sex_slave': 'sex slave(s|d)',\n",
    "'sexual_slavery' : 'sexual slavery',\n",
    "'sexual_assault': 'sexual assault(s|ing|ed)',\n",
    "'sexual_assaulting': 'sexual assaulting',\n",
    "'sexually_assaulting': 'sexually assaulting',\n",
    "'harem': 'harem(s)'}\n",
    "usage_summary = usage_summary.replace(tidy_names).set_index('term')\n",
    "usage_summary.to_csv('usage_summary.tsv', sep='\\t')"
   ]
  },
  {
   "cell_type": "code",
   "execution_count": 57,
   "id": "dd5b402f",
   "metadata": {},
   "outputs": [
    {
     "data": {
      "text/html": [
       "<div>\n",
       "<style scoped>\n",
       "    .dataframe tbody tr th:only-of-type {\n",
       "        vertical-align: middle;\n",
       "    }\n",
       "\n",
       "    .dataframe tbody tr th {\n",
       "        vertical-align: top;\n",
       "    }\n",
       "\n",
       "    .dataframe thead th {\n",
       "        text-align: right;\n",
       "    }\n",
       "</style>\n",
       "<table border=\"1\" class=\"dataframe\">\n",
       "  <thead>\n",
       "    <tr style=\"text-align: right;\">\n",
       "      <th></th>\n",
       "      <th>Unique Users Using Term</th>\n",
       "      <th>Unique Threads Using Term</th>\n",
       "      <th>Unique Posts Using Term</th>\n",
       "    </tr>\n",
       "    <tr>\n",
       "      <th>term</th>\n",
       "      <th></th>\n",
       "      <th></th>\n",
       "      <th></th>\n",
       "    </tr>\n",
       "  </thead>\n",
       "  <tbody>\n",
       "    <tr>\n",
       "      <th>harem(s)</th>\n",
       "      <td>1324</td>\n",
       "      <td>3944</td>\n",
       "      <td>4736</td>\n",
       "    </tr>\n",
       "    <tr>\n",
       "      <th>rape(s|ed)</th>\n",
       "      <td>3986</td>\n",
       "      <td>25835</td>\n",
       "      <td>43621</td>\n",
       "    </tr>\n",
       "    <tr>\n",
       "      <th>raping</th>\n",
       "      <td>1409</td>\n",
       "      <td>3377</td>\n",
       "      <td>3882</td>\n",
       "    </tr>\n",
       "    <tr>\n",
       "      <th>sex slave(s|d)</th>\n",
       "      <td>681</td>\n",
       "      <td>1224</td>\n",
       "      <td>1421</td>\n",
       "    </tr>\n",
       "    <tr>\n",
       "      <th>sexual assault(s|ing|ed)</th>\n",
       "      <td>564</td>\n",
       "      <td>958</td>\n",
       "      <td>1103</td>\n",
       "    </tr>\n",
       "    <tr>\n",
       "      <th>sexual assaulting</th>\n",
       "      <td>5</td>\n",
       "      <td>5</td>\n",
       "      <td>5</td>\n",
       "    </tr>\n",
       "    <tr>\n",
       "      <th>sexual slavery</th>\n",
       "      <td>53</td>\n",
       "      <td>58</td>\n",
       "      <td>61</td>\n",
       "    </tr>\n",
       "    <tr>\n",
       "      <th>sexually assaulting</th>\n",
       "      <td>53</td>\n",
       "      <td>65</td>\n",
       "      <td>65</td>\n",
       "    </tr>\n",
       "  </tbody>\n",
       "</table>\n",
       "</div>"
      ],
      "text/plain": [
       "                          Unique Users Using Term  Unique Threads Using Term  \\\n",
       "term                                                                           \n",
       "harem(s)                                     1324                       3944   \n",
       "rape(s|ed)                                   3986                      25835   \n",
       "raping                                       1409                       3377   \n",
       "sex slave(s|d)                                681                       1224   \n",
       "sexual assault(s|ing|ed)                      564                        958   \n",
       "sexual assaulting                               5                          5   \n",
       "sexual slavery                                 53                         58   \n",
       "sexually assaulting                            53                         65   \n",
       "\n",
       "                          Unique Posts Using Term  \n",
       "term                                               \n",
       "harem(s)                                     4736  \n",
       "rape(s|ed)                                  43621  \n",
       "raping                                       3882  \n",
       "sex slave(s|d)                               1421  \n",
       "sexual assault(s|ing|ed)                     1103  \n",
       "sexual assaulting                               5  \n",
       "sexual slavery                                 61  \n",
       "sexually assaulting                            65  "
      ]
     },
     "execution_count": 57,
     "metadata": {},
     "output_type": "execute_result"
    }
   ],
   "source": [
    "usage_summary"
   ]
  },
  {
   "cell_type": "code",
   "execution_count": 59,
   "id": "0bfc65a0",
   "metadata": {},
   "outputs": [
    {
     "name": "stderr",
     "output_type": "stream",
     "text": [
      "100%|████████████████████████████████████████████| 234615/234615 [05:42<00:00, 684.76it/s]\n"
     ]
    }
   ],
   "source": [
    "index = pd.read_csv('../2022_12_11_inceldom_discussion_scrape/complete_submissions_index.txt', sep='\\t',names=['URL', 'Comment_Data', 'User_Data'])\n",
    "\n",
    "users = set()\n",
    "post_count = 0\n",
    "for scrape in tqdm(Path('../2022_12_11_inceldom_discussion_scrape/submissions/').glob('*.tsv'), total=index.shape[0]):\n",
    "    try:\n",
    "        scrape_df = pd.read_csv(scrape, sep='\\t', comment='#')\n",
    "        users = users.union(set(scrape_df['author'].unique()))\n",
    "        post_count += scrape_df.shape[0]\n",
    "    except:\n",
    "        continue"
   ]
  },
  {
   "cell_type": "code",
   "execution_count": 61,
   "id": "ac540817",
   "metadata": {},
   "outputs": [
    {
     "name": "stdout",
     "output_type": "stream",
     "text": [
      "Total Users: 11678\n",
      "Total Posts: 4974826\n",
      "Total Threads: 234615\n"
     ]
    }
   ],
   "source": [
    "print(f\"Total Users: {len(users)}\")\n",
    "print(f\"Total Posts: {post_count}\")\n",
    "print(f\"Total Threads: {index.shape[0]}\")"
   ]
  }
 ],
 "metadata": {
  "kernelspec": {
   "display_name": "Python 3 (ipykernel)",
   "language": "python",
   "name": "python3"
  },
  "language_info": {
   "codemirror_mode": {
    "name": "ipython",
    "version": 3
   },
   "file_extension": ".py",
   "mimetype": "text/x-python",
   "name": "python",
   "nbconvert_exporter": "python",
   "pygments_lexer": "ipython3",
   "version": "3.10.6"
  }
 },
 "nbformat": 4,
 "nbformat_minor": 5
}
