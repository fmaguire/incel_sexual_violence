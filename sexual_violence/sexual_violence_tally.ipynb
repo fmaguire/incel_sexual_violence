{
 "cells": [
  {
   "cell_type": "code",
   "execution_count": 4,
   "id": "0b18b89b",
   "metadata": {},
   "outputs": [],
   "source": [
    "import pandas as pd\n",
    "from pathlib import Path\n",
    "from tqdm import tqdm"
   ]
  },
  {
   "cell_type": "code",
   "execution_count": 8,
   "id": "bd3e68cc",
   "metadata": {},
   "outputs": [],
   "source": [
    "dataset = []\n",
    "for csv in Path('.').glob('*.tsv'):\n",
    "    term = csv.name.replace('2022_12_11_inceldom_', '').replace('_references.tsv', '')\n",
    "    if csv != 'usage_summary.tsv':\n",
    "        csv = pd.read_csv(csv, sep='\\t')\n",
    "        csv['term'] = term\n",
    "        dataset.append(csv)\n",
    "dataset = pd.concat(dataset)\n",
    "dataset = dataset.drop('Unnamed: 0', axis=1)"
   ]
  },
  {
   "cell_type": "code",
   "execution_count": 9,
   "id": "80975b20",
   "metadata": {},
   "outputs": [],
   "source": [
    "unique_users = dataset.groupby('term')['author'].nunique()\n",
    "unique_users.name = \"Unique Users Using Term\" \n",
    "unique_threads = dataset.groupby('term')['URL'].nunique()\n",
    "unique_threads.name = \"Unique Threads Using Term\"\n",
    "unique_posts = dataset.groupby('term').size()\n",
    "unique_posts.name = \"Unique Posts Using Term\"\n",
    "\n",
    "usage_summary = pd.concat([unique_users, unique_threads, unique_posts], axis=1).reset_index()\n",
    "tidy_names = {'rape': 'rape(s|ed)',\n",
    "'raping': 'raping',\n",
    "'sex_slave': 'sex slave(s|d)',\n",
    "'sexual_slavery' : 'sexual slavery',\n",
    "'sexual_assault': 'sexual assault(s|ing|ed)',\n",
    "'sexual_assaulting': 'sexual assaulting',\n",
    "'sexually_assaulting': 'sexually assaulting',\n",
    "'harem': 'harem(s)'}\n",
    "usage_summary = usage_summary.replace(tidy_names).set_index('term')\n",
    "usage_summary.to_csv('usage_summary.tsv', sep='\\t')"
   ]
  },
  {
   "cell_type": "code",
   "execution_count": 19,
   "id": "dd5b402f",
   "metadata": {},
   "outputs": [],
   "source": [
    "usage_summary.loc['rape(s|ed|ing)'] = usage_summary.loc['rape(s|ed)'] + usage_summary.loc['raping']\n",
    "usage_summary.loc['sex(|ual) slave(s|d|ry)'] = usage_summary.loc['sex slave(s|d)'] + usage_summary.loc['sexual slavery']\n",
    "usage_summary.loc['sexual(|lly) assualt(s|ing|ed)'] = usage_summary.loc['sexual assault(s|ing|ed)'] + usage_summary.loc['sexual assaulting'] + usage_summary.loc['sexually assaulting']\n",
    "usage_summary = usage_summary.loc[['harem(s)', 'rape(s|ed|ing)', 'sex(|ual) slave(s|d|ry)', 'sexual(|lly) assualt(s|ing|ed)']]"
   ]
  },
  {
   "cell_type": "code",
   "execution_count": 21,
   "id": "5e8f8068",
   "metadata": {},
   "outputs": [],
   "source": [
    "usage_summary['References To'] = ['Harem', 'Rape', 'Sex Slavery', 'Sexual Assault'] "
   ]
  },
  {
   "cell_type": "code",
   "execution_count": 23,
   "id": "9a96da84",
   "metadata": {},
   "outputs": [],
   "source": [
    "usage_summary.to_csv('usage_summary_tidied.tsv', sep='\\t')"
   ]
  },
  {
   "cell_type": "code",
   "execution_count": null,
   "id": "b69a6053",
   "metadata": {},
   "outputs": [],
   "source": []
  },
  {
   "cell_type": "code",
   "execution_count": null,
   "id": "2e6a96ef",
   "metadata": {},
   "outputs": [],
   "source": [
    "!cut -f 1 ../2022_12_11_inceldom_discussion_scrape/submissions/"
   ]
  },
  {
   "cell_type": "code",
   "execution_count": 26,
   "id": "4b607010",
   "metadata": {},
   "outputs": [
    {
     "name": "stdout",
     "output_type": "stream",
     "text": [
      "a.py\r\n",
      "complete_submissions_index.txt\r\n",
      "\u001b[0m\u001b[01;34msubmissions\u001b[0m/\r\n",
      "\u001b[01;34muser_data\u001b[0m/\r\n"
     ]
    }
   ],
   "source": [
    "ls ../2022_12_11_inceldom_discussion_scrape/"
   ]
  },
  {
   "cell_type": "code",
   "execution_count": 33,
   "id": "cde1ef34",
   "metadata": {},
   "outputs": [],
   "source": [
    "with open('../2022_12_11_inceldom_discussion_scrape/created_dates.txt') as fh:\n",
    "    created_dates = pd.Series([int(x.strip()) for x in fh])\n",
    "    \n",
    "with open('../2022_12_11_inceldom_discussion_scrape/replies.txt') as fh:\n",
    "    comments = pd.Series([x.strip() for x in fh])"
   ]
  },
  {
   "cell_type": "code",
   "execution_count": 39,
   "id": "989fc8f9",
   "metadata": {},
   "outputs": [
    {
     "data": {
      "text/plain": [
       "1670883386"
      ]
     },
     "execution_count": 39,
     "metadata": {},
     "output_type": "execute_result"
    }
   ],
   "source": [
    "max(created_dates)"
   ]
  },
  {
   "cell_type": "code",
   "execution_count": null,
   "id": "bfb298f3",
   "metadata": {},
   "outputs": [],
   "source": [
    "comments = []\n",
    "for scrape in tqdm(Path('../2022_12_11_inceldom_discussion_scrape/submissions/').glob('*.tsv'), total=234615):\n",
    "    pd.read_csv('')"
   ]
  },
  {
   "cell_type": "code",
   "execution_count": null,
   "id": "ec4d3b02",
   "metadata": {},
   "outputs": [],
   "source": []
  },
  {
   "cell_type": "code",
   "execution_count": 59,
   "id": "0bfc65a0",
   "metadata": {},
   "outputs": [
    {
     "name": "stderr",
     "output_type": "stream",
     "text": [
      "100%|████████████████████████████████████████████| 234615/234615 [05:42<00:00, 684.76it/s]\n"
     ]
    }
   ],
   "source": [
    "index = pd.read_csv('../2022_12_11_inceldom_discussion_scrape/complete_submissions_index.txt', sep='\\t',names=['URL', 'Comment_Data', 'User_Data'])\n",
    "\n",
    "users = set()\n",
    "post_count = 0\n",
    "for scrape in tqdm(Path('../2022_12_11_inceldom_discussion_scrape/submissions/').glob('*.tsv'), total=index.shape[0]):\n",
    "    try:\n",
    "        scrape_df = pd.read_csv(scrape, sep='\\t', comment='#')\n",
    "        users = users.union(set(scrape_df['author'].unique()))\n",
    "        post_count += scrape_df.shape[0]\n",
    "    except:\n",
    "        continue"
   ]
  },
  {
   "cell_type": "code",
   "execution_count": 61,
   "id": "ac540817",
   "metadata": {},
   "outputs": [
    {
     "name": "stdout",
     "output_type": "stream",
     "text": [
      "Total Users: 11678\n",
      "Total Posts: 4974826\n",
      "Total Threads: 234615\n"
     ]
    }
   ],
   "source": [
    "print(f\"Total Users: {len(users)}\")\n",
    "print(f\"Total Posts: {post_count}\")\n",
    "print(f\"Total Threads: {index.shape[0]}\")"
   ]
  }
 ],
 "metadata": {
  "kernelspec": {
   "display_name": "Python 3 (ipykernel)",
   "language": "python",
   "name": "python3"
  },
  "language_info": {
   "codemirror_mode": {
    "name": "ipython",
    "version": 3
   },
   "file_extension": ".py",
   "mimetype": "text/x-python",
   "name": "python",
   "nbconvert_exporter": "python",
   "pygments_lexer": "ipython3",
   "version": "3.10.6"
  }
 },
 "nbformat": 4,
 "nbformat_minor": 5
}
